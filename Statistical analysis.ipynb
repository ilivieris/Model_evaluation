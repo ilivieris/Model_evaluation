{
 "cells": [
  {
   "cell_type": "markdown",
   "metadata": {},
   "source": [
    "# Libraries"
   ]
  },
  {
   "cell_type": "code",
   "execution_count": 1,
   "metadata": {},
   "outputs": [],
   "source": [
    "import warnings\n",
    "warnings.filterwarnings(\"ignore\")"
   ]
  },
  {
   "cell_type": "code",
   "execution_count": 2,
   "metadata": {},
   "outputs": [],
   "source": [
    "# =-=-=-=-=-=-=-=-=-=-=-=-=-=-=-=-=-=-=-=-=-=-=-=-=-=-=-=-=-=-=-=-=-=-=-=-=-=\n",
    "# Basic libraries\n",
    "#\n",
    "import time\n",
    "import pandas    as pd\n",
    "import numpy     as np\n",
    "from   tqdm      import tqdm\n",
    "\n",
    "\n",
    "# =-=-=-=-=-=-=-=-=-=-=-=-=-=-=-=-=-=-=-=-=-=-=-=-=-=-=-=-=-=-=-=-=-=-=-=-=-=\n",
    "# Visualization library\n",
    "#\n",
    "import matplotlib.pyplot   as plt \n",
    "\n",
    "\n",
    "\n",
    "# =-=-=-=-=-=-=-=-=-=-=-=-=-=-=-=-=-=-=-=-=-=-=-=-=-=-=-=-=-=-=-=-=-=-=-=-=-=-=-=-=-=-=-=-=-=-=-=-=-=-=-=-=-=-=-=-=-=-=-=-=-=-=-=-=-=-=-=-=-=-=-=-=-=-=-=-=\n",
    "#\n",
    "# User libraries\n",
    "#\n",
    "from utils.non_parametric_tests import *\n",
    "from utils.PerformanceProfiles  import *"
   ]
  },
  {
   "cell_type": "markdown",
   "metadata": {},
   "source": [
    "# Import data"
   ]
  },
  {
   "cell_type": "code",
   "execution_count": 3,
   "metadata": {},
   "outputs": [
    {
     "name": "stdout",
     "output_type": "stream",
     "text": [
      "[INFO] Number of methods:  3\n"
     ]
    }
   ],
   "source": [
    "from os import listdir\n",
    "from os.path import isfile, join\n",
    "\n",
    "path = 'Predictions/'\n",
    "Files = [f for f in listdir( path ) if isfile(join(path, f))]\n",
    "\n",
    "print('[INFO] Number of methods: ', len(Files) )"
   ]
  },
  {
   "cell_type": "code",
   "execution_count": 4,
   "metadata": {},
   "outputs": [
    {
     "data": {
      "text/html": [
       "<div>\n",
       "<style scoped>\n",
       "    .dataframe tbody tr th:only-of-type {\n",
       "        vertical-align: middle;\n",
       "    }\n",
       "\n",
       "    .dataframe tbody tr th {\n",
       "        vertical-align: top;\n",
       "    }\n",
       "\n",
       "    .dataframe thead th {\n",
       "        text-align: right;\n",
       "    }\n",
       "</style>\n",
       "<table border=\"1\" class=\"dataframe\">\n",
       "  <thead>\n",
       "    <tr style=\"text-align: right;\">\n",
       "      <th></th>\n",
       "      <th>Method 1</th>\n",
       "      <th>Method 2</th>\n",
       "      <th>Method 3</th>\n",
       "    </tr>\n",
       "    <tr>\n",
       "      <th>Date</th>\n",
       "      <th></th>\n",
       "      <th></th>\n",
       "      <th></th>\n",
       "    </tr>\n",
       "  </thead>\n",
       "  <tbody>\n",
       "    <tr>\n",
       "      <th>2022-02-12 01:45:00</th>\n",
       "      <td>0.0085</td>\n",
       "      <td>0.0885</td>\n",
       "      <td>0.0636</td>\n",
       "    </tr>\n",
       "    <tr>\n",
       "      <th>2022-02-12 01:50:00</th>\n",
       "      <td>0.0944</td>\n",
       "      <td>0.0806</td>\n",
       "      <td>0.0162</td>\n",
       "    </tr>\n",
       "    <tr>\n",
       "      <th>2022-02-12 01:55:00</th>\n",
       "      <td>0.1258</td>\n",
       "      <td>0.0836</td>\n",
       "      <td>0.1239</td>\n",
       "    </tr>\n",
       "    <tr>\n",
       "      <th>2022-02-12 02:00:00</th>\n",
       "      <td>0.2315</td>\n",
       "      <td>0.0311</td>\n",
       "      <td>0.0453</td>\n",
       "    </tr>\n",
       "    <tr>\n",
       "      <th>2022-02-12 02:05:00</th>\n",
       "      <td>0.3250</td>\n",
       "      <td>0.0715</td>\n",
       "      <td>0.1284</td>\n",
       "    </tr>\n",
       "  </tbody>\n",
       "</table>\n",
       "</div>"
      ],
      "text/plain": [
       "                     Method 1  Method 2  Method 3\n",
       "Date                                             \n",
       "2022-02-12 01:45:00    0.0085    0.0885    0.0636\n",
       "2022-02-12 01:50:00    0.0944    0.0806    0.0162\n",
       "2022-02-12 01:55:00    0.1258    0.0836    0.1239\n",
       "2022-02-12 02:00:00    0.2315    0.0311    0.0453\n",
       "2022-02-12 02:05:00    0.3250    0.0715    0.1284"
      ]
     },
     "execution_count": 4,
     "metadata": {},
     "output_type": "execute_result"
    }
   ],
   "source": [
    "df = None\n",
    "for file in Files:\n",
    "    # Get method\n",
    "    Method = file.split('.')[0]    \n",
    "    # Load data\n",
    "    temp = pd.read_csv(path + file)\n",
    "    # Calculate Absolute Errors\n",
    "    temp[ Method ] = (temp.iloc[:,1] - temp.iloc[:,2]).abs().round(4)\n",
    "    # Include date & Absolute Errors\n",
    "    temp = temp[ ['Date', Method] ]\n",
    "    temp.set_index('Date', inplace=True)\n",
    "    \n",
    "    if (df is None):\n",
    "        df = temp\n",
    "    else:\n",
    "        df = pd.concat([df, temp], axis=1)\n",
    "        \n",
    "df.head( 5 )"
   ]
  },
  {
   "cell_type": "markdown",
   "metadata": {},
   "source": [
    "# Statistical analysis\n",
    "\n",
    "- Derrac, J., García, S., Molina, D., & Herrera, F. (2011). A practical tutorial on the use of nonparametric statistical tests as a methodology for comparing evolutionary and swarm intelligence algorithms. Swarm and Evolutionary Computation, 1(1), 3-18.\n",
    "\n",
    "- García, S., Fernández, A., Luengo, J., & Herrera, F. (2010). Advanced nonparametric tests for multiple comparisons in the design of experiments in computational intelligence and data mining: Experimental analysis of power. Information sciences, 180(10), 2044-2064."
   ]
  },
  {
   "cell_type": "markdown",
   "metadata": {},
   "source": [
    "## Friedman Aligned Ranking (FAR)"
   ]
  },
  {
   "cell_type": "code",
   "execution_count": 5,
   "metadata": {},
   "outputs": [
    {
     "name": "stdout",
     "output_type": "stream",
     "text": [
      "[INFO] Number of methods:   3\n",
      "[INFO] Number of problems:  1014\n",
      "\n",
      "\n",
      "[INFO] H0: {All methods exhibited similar results with no statistical differences}\n",
      "[INFO] FAR: 11.825 (p-value: 0.00271)\n",
      "\t> H0 is rejected\n"
     ]
    }
   ],
   "source": [
    "T, p_value, rankings_avg, rankings_cmp = friedman_aligned_ranks_test( df )\n",
    "\n",
    "\n",
    "# Summary\n",
    "#\n",
    "print('\\n')\n",
    "print('[INFO] H0: {All methods exhibited similar results with no statistical differences}')\n",
    "print('[INFO] FAR: %.3f (p-value: %.5f)' % (T, p_value))\n",
    "if (p_value < 0.05):\n",
    "    print('\\t> H0 is rejected')\n",
    "else:\n",
    "    print('\\t> H0 is failed to be rejected')"
   ]
  },
  {
   "cell_type": "markdown",
   "metadata": {},
   "source": [
    "### FAR ranking"
   ]
  },
  {
   "cell_type": "code",
   "execution_count": 6,
   "metadata": {},
   "outputs": [
    {
     "data": {
      "text/html": [
       "<div>\n",
       "<style scoped>\n",
       "    .dataframe tbody tr th:only-of-type {\n",
       "        vertical-align: middle;\n",
       "    }\n",
       "\n",
       "    .dataframe tbody tr th {\n",
       "        vertical-align: top;\n",
       "    }\n",
       "\n",
       "    .dataframe thead th {\n",
       "        text-align: right;\n",
       "    }\n",
       "</style>\n",
       "<table border=\"1\" class=\"dataframe\">\n",
       "  <thead>\n",
       "    <tr style=\"text-align: right;\">\n",
       "      <th></th>\n",
       "      <th>Methods</th>\n",
       "      <th>FAR</th>\n",
       "    </tr>\n",
       "  </thead>\n",
       "  <tbody>\n",
       "    <tr>\n",
       "      <th>2</th>\n",
       "      <td>Method 3</td>\n",
       "      <td>1460.199704</td>\n",
       "    </tr>\n",
       "    <tr>\n",
       "      <th>1</th>\n",
       "      <td>Method 2</td>\n",
       "      <td>1491.409763</td>\n",
       "    </tr>\n",
       "    <tr>\n",
       "      <th>0</th>\n",
       "      <td>Method 1</td>\n",
       "      <td>1612.890533</td>\n",
       "    </tr>\n",
       "  </tbody>\n",
       "</table>\n",
       "</div>"
      ],
      "text/plain": [
       "    Methods          FAR\n",
       "2  Method 3  1460.199704\n",
       "1  Method 2  1491.409763\n",
       "0  Method 1  1612.890533"
      ]
     },
     "execution_count": 6,
     "metadata": {},
     "output_type": "execute_result"
    }
   ],
   "source": [
    "Ranking = pd.DataFrame( [] )\n",
    "Ranking['Methods'] = df.columns\n",
    "Ranking['FAR']     = rankings_avg\n",
    "\n",
    "Ranking.sort_values(by = 'FAR')"
   ]
  },
  {
   "cell_type": "markdown",
   "metadata": {},
   "source": [
    "## Finner post-hoc test"
   ]
  },
  {
   "cell_type": "code",
   "execution_count": 7,
   "metadata": {},
   "outputs": [],
   "source": [
    "### Create dictionary with rankings\n",
    "\n",
    "d = {}\n",
    "for i, feature in enumerate(df.columns):\n",
    "    d[ feature ] = rankings_cmp[i] "
   ]
  },
  {
   "cell_type": "markdown",
   "metadata": {},
   "source": [
    "### Multiple comparisons ($1 \\times N$)\n",
    "\n",
    "**Finner post-hoc test**"
   ]
  },
  {
   "cell_type": "code",
   "execution_count": 8,
   "metadata": {},
   "outputs": [
    {
     "name": "stdout",
     "output_type": "stream",
     "text": [
      "[INFO] Control method:  Method 3\n"
     ]
    },
    {
     "data": {
      "text/html": [
       "<div>\n",
       "<style scoped>\n",
       "    .dataframe tbody tr th:only-of-type {\n",
       "        vertical-align: middle;\n",
       "    }\n",
       "\n",
       "    .dataframe tbody tr th {\n",
       "        vertical-align: top;\n",
       "    }\n",
       "\n",
       "    .dataframe thead th {\n",
       "        text-align: right;\n",
       "    }\n",
       "</style>\n",
       "<table border=\"1\" class=\"dataframe\">\n",
       "  <thead>\n",
       "    <tr style=\"text-align: right;\">\n",
       "      <th></th>\n",
       "      <th>Comparisons</th>\n",
       "      <th>APV</th>\n",
       "      <th>Null hypothesis</th>\n",
       "    </tr>\n",
       "  </thead>\n",
       "  <tbody>\n",
       "    <tr>\n",
       "      <th>0</th>\n",
       "      <td>Method 3 vs Method 1</td>\n",
       "      <td>0.000181</td>\n",
       "      <td>Rejected</td>\n",
       "    </tr>\n",
       "    <tr>\n",
       "      <th>1</th>\n",
       "      <td>Method 3 vs Method 2</td>\n",
       "      <td>0.423638</td>\n",
       "      <td>Failed to reject</td>\n",
       "    </tr>\n",
       "  </tbody>\n",
       "</table>\n",
       "</div>"
      ],
      "text/plain": [
       "            Comparisons       APV   Null hypothesis\n",
       "0  Method 3 vs Method 1  0.000181          Rejected\n",
       "1  Method 3 vs Method 2  0.423638  Failed to reject"
      ]
     },
     "execution_count": 8,
     "metadata": {},
     "output_type": "execute_result"
    }
   ],
   "source": [
    "comparisons, z_values, p_values, adj_p_values = finner_test( d )\n",
    "\n",
    "Finner = pd.DataFrame( [] )\n",
    "Finner['Comparisons']     = comparisons\n",
    "Finner['APV']             = adj_p_values\n",
    "Finner['Null hypothesis'] = Finner['APV'].apply(lambda x: 'Rejected' if x < 0.05 else 'Failed to reject')\n",
    "\n",
    "Finner"
   ]
  },
  {
   "cell_type": "markdown",
   "metadata": {},
   "source": [
    "### Multiple comparisons ($N \\times N$)\n",
    "\n",
    "**Finner-multitest post-hoc test**"
   ]
  },
  {
   "cell_type": "code",
   "execution_count": 9,
   "metadata": {},
   "outputs": [
    {
     "data": {
      "text/html": [
       "<div>\n",
       "<style scoped>\n",
       "    .dataframe tbody tr th:only-of-type {\n",
       "        vertical-align: middle;\n",
       "    }\n",
       "\n",
       "    .dataframe tbody tr th {\n",
       "        vertical-align: top;\n",
       "    }\n",
       "\n",
       "    .dataframe thead th {\n",
       "        text-align: right;\n",
       "    }\n",
       "</style>\n",
       "<table border=\"1\" class=\"dataframe\">\n",
       "  <thead>\n",
       "    <tr style=\"text-align: right;\">\n",
       "      <th></th>\n",
       "      <th>Comparisons</th>\n",
       "      <th>APV</th>\n",
       "      <th>Null hypothesis</th>\n",
       "    </tr>\n",
       "  </thead>\n",
       "  <tbody>\n",
       "    <tr>\n",
       "      <th>0</th>\n",
       "      <td>Method 1 vs Method 3</td>\n",
       "      <td>0.000272</td>\n",
       "      <td>Rejected</td>\n",
       "    </tr>\n",
       "    <tr>\n",
       "      <th>1</th>\n",
       "      <td>Method 1 vs Method 2</td>\n",
       "      <td>0.002764</td>\n",
       "      <td>Rejected</td>\n",
       "    </tr>\n",
       "    <tr>\n",
       "      <th>2</th>\n",
       "      <td>Method 2 vs Method 3</td>\n",
       "      <td>0.423638</td>\n",
       "      <td>Failed to reject</td>\n",
       "    </tr>\n",
       "  </tbody>\n",
       "</table>\n",
       "</div>"
      ],
      "text/plain": [
       "            Comparisons       APV   Null hypothesis\n",
       "0  Method 1 vs Method 3  0.000272          Rejected\n",
       "1  Method 1 vs Method 2  0.002764          Rejected\n",
       "2  Method 2 vs Method 3  0.423638  Failed to reject"
      ]
     },
     "execution_count": 9,
     "metadata": {},
     "output_type": "execute_result"
    }
   ],
   "source": [
    "comparisons, z_values, p_values, adj_p_values = finner_multitest(d)\n",
    "\n",
    "Finner = pd.DataFrame( [] )\n",
    "Finner['Comparisons']     = comparisons\n",
    "Finner['APV']             = adj_p_values\n",
    "Finner['Null hypothesis'] = Finner['APV'].apply(lambda x: 'Rejected' if x < 0.05 else 'Failed to reject')\n",
    "\n",
    "Finner"
   ]
  },
  {
   "cell_type": "markdown",
   "metadata": {},
   "source": [
    "# Performance profiles\n",
    "\n",
    "- Dolan, E. D., & Moré, J. J. (2002). Benchmarking optimization software with performance profiles. Mathematical programming, 91(2), 201-213.\n",
    "ISO 690\t\n"
   ]
  },
  {
   "cell_type": "code",
   "execution_count": 10,
   "metadata": {},
   "outputs": [
    {
     "name": "stdout",
     "output_type": "stream",
     "text": [
      "            Method 1 solved 36.39% of cases with the best (least) score\n",
      "            Method 2 solved 28.80% of cases with the best (least) score\n",
      "            Method 3 solved 35.01% of cases with the best (least) score\n"
     ]
    },
    {
     "data": {
      "image/png": "[encoded data removed]",
      "text/plain": [
       "<Figure size 576x432 with 1 Axes>"
      ]
     },
     "metadata": {
      "needs_background": "light"
     },
     "output_type": "display_data"
    }
   ],
   "source": [
    "perfprof(df, \n",
    "         linespecs = ['r-', 'b-.', 'g--'], \n",
    "         digit = 3,\n",
    "         legendnames = df.columns,\n",
    "         thmax = 10, figsize = (8, 6))\n",
    "\n",
    "plt.xscale('log')"
   ]
  },
  {
   "cell_type": "code",
   "execution_count": null,
   "metadata": {},
   "outputs": [],
   "source": []
  }
 ],
 "metadata": {
  "kernelspec": {
   "display_name": "Python [conda env:Forecasting]",
   "language": "python",
   "name": "conda-env-Forecasting-py"
  },
  "language_info": {
   "codemirror_mode": {
    "name": "ipython",
    "version": 3
   },
   "file_extension": ".py",
   "mimetype": "text/x-python",
   "name": "python",
   "nbconvert_exporter": "python",
   "pygments_lexer": "ipython3",
   "version": "3.7.10"
  },
  "toc": {
   "base_numbering": 1,
   "nav_menu": {},
   "number_sections": true,
   "sideBar": true,
   "skip_h1_title": false,
   "title_cell": "Table of Contents",
   "title_sidebar": "Contents",
   "toc_cell": false,
   "toc_position": {},
   "toc_section_display": true,
   "toc_window_display": false
  }
 },
 "nbformat": 4,
 "nbformat_minor": 4
}
